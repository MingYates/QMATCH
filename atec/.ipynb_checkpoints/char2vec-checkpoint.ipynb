{
 "cells": [
  {
   "cell_type": "code",
   "execution_count": 1,
   "metadata": {
    "ExecuteTime": {
     "end_time": "2018-06-20T14:21:09.516978Z",
     "start_time": "2018-06-20T14:21:08.267350Z"
    }
   },
   "outputs": [
    {
     "name": "stdout",
     "output_type": "stream",
     "text": [
      "success! \n"
     ]
    }
   ],
   "source": [
    "from gensim.models import Word2Vec\n",
    "path = '/files/ydm/CCKS_bjb/wiki/wiki.zh.text.model'\n",
    "\n",
    "w2v = Word2Vec.load(path).wv"
   ]
  },
  {
   "cell_type": "code",
   "execution_count": 2,
   "metadata": {
    "ExecuteTime": {
     "end_time": "2018-06-20T14:21:10.557079Z",
     "start_time": "2018-06-20T14:21:10.548072Z"
    }
   },
   "outputs": [],
   "source": [
    "vocab = [v for v in w2v.vocab]"
   ]
  },
  {
   "cell_type": "code",
   "execution_count": 3,
   "metadata": {
    "ExecuteTime": {
     "end_time": "2018-06-20T14:21:14.622226Z",
     "start_time": "2018-06-20T14:21:14.258179Z"
    }
   },
   "outputs": [],
   "source": [
    "cdict = []\n",
    "emat = []\n",
    "for c in vocab:\n",
    "    cdict.append(c)\n",
    "    emat.append(w2v[c])\n",
    "    \n",
    "cdict.append('OOV')\n",
    "emat.append([0.0]*200)\n",
    "cdict = dict((c, idx) for idx, c in enumerate(vocab))"
   ]
  },
  {
   "cell_type": "code",
   "execution_count": 4,
   "metadata": {
    "ExecuteTime": {
     "end_time": "2018-06-20T14:32:00.515726Z",
     "start_time": "2018-06-20T14:32:00.406556Z"
    }
   },
   "outputs": [],
   "source": [
    "import numpy as np\n",
    "emat = np.array(emat)"
   ]
  },
  {
   "cell_type": "code",
   "execution_count": 5,
   "metadata": {
    "ExecuteTime": {
     "end_time": "2018-06-20T14:32:03.983904Z",
     "start_time": "2018-06-20T14:32:02.741011Z"
    }
   },
   "outputs": [],
   "source": [
    "import pickle\n",
    "f = open('char2vec.model', 'wb')\n",
    "pickle.dump(cdict, f, True)\n",
    "pickle.dump(emat, f, True)"
   ]
  },
  {
   "cell_type": "code",
   "execution_count": 6,
   "metadata": {
    "ExecuteTime": {
     "end_time": "2018-06-20T14:32:06.817603Z",
     "start_time": "2018-06-20T14:32:05.555513Z"
    }
   },
   "outputs": [],
   "source": [
    "import pickle\n",
    "c2vpath = 'char2vec.model'\n",
    "c2vfile = open(c2vpath, 'rb')\n",
    "cdict = pickle.load(c2vfile)\n",
    "emat = pickle.load(c2vfile)\n",
    "c2vpath.close()"
   ]
  },
  {
   "cell_type": "code",
   "execution_count": 8,
   "metadata": {
    "ExecuteTime": {
     "end_time": "2018-06-20T14:32:21.577235Z",
     "start_time": "2018-06-20T14:32:21.574262Z"
    }
   },
   "outputs": [
    {
     "name": "stdout",
     "output_type": "stream",
     "text": [
      "175818\n",
      "(175819, 200)\n"
     ]
    }
   ],
   "source": [
    "print(len(cdict))\n",
    "print(emat.shape)"
   ]
  }
 ],
 "metadata": {
  "kernelspec": {
   "display_name": "Python 3",
   "language": "python",
   "name": "python3"
  },
  "language_info": {
   "codemirror_mode": {
    "name": "ipython",
    "version": 3
   },
   "file_extension": ".py",
   "mimetype": "text/x-python",
   "name": "python",
   "nbconvert_exporter": "python",
   "pygments_lexer": "ipython3",
   "version": "3.6.2"
  },
  "latex_envs": {
   "LaTeX_envs_menu_present": true,
   "autocomplete": true,
   "bibliofile": "biblio.bib",
   "cite_by": "apalike",
   "current_citInitial": 1,
   "eqLabelWithNumbers": true,
   "eqNumInitial": 1,
   "hotkeys": {
    "equation": "Ctrl-E",
    "itemize": "Ctrl-I"
   },
   "labels_anchors": false,
   "latex_user_defs": false,
   "report_style_numbering": false,
   "user_envs_cfg": false
  },
  "toc": {
   "nav_menu": {},
   "number_sections": true,
   "sideBar": true,
   "skip_h1_title": false,
   "toc_cell": false,
   "toc_position": {},
   "toc_section_display": "block",
   "toc_window_display": false
  },
  "varInspector": {
   "cols": {
    "lenName": 16,
    "lenType": 16,
    "lenVar": 40
   },
   "kernels_config": {
    "python": {
     "delete_cmd_postfix": "",
     "delete_cmd_prefix": "del ",
     "library": "var_list.py",
     "varRefreshCmd": "print(var_dic_list())"
    },
    "r": {
     "delete_cmd_postfix": ") ",
     "delete_cmd_prefix": "rm(",
     "library": "var_list.r",
     "varRefreshCmd": "cat(var_dic_list()) "
    }
   },
   "types_to_exclude": [
    "module",
    "function",
    "builtin_function_or_method",
    "instance",
    "_Feature"
   ],
   "window_display": false
  }
 },
 "nbformat": 4,
 "nbformat_minor": 2
}
