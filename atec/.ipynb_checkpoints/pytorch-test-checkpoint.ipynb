{
 "cells": [
  {
   "cell_type": "code",
   "execution_count": 1,
   "metadata": {
    "ExecuteTime": {
     "end_time": "2018-06-22T08:05:25.291887Z",
     "start_time": "2018-06-22T08:05:24.829930Z"
    }
   },
   "outputs": [],
   "source": [
    "import torch\n",
    "# torch.device(\"cpu\")\n",
    "# torch.device(\"cuda:0\")"
   ]
  },
  {
   "cell_type": "code",
   "execution_count": 3,
   "metadata": {
    "ExecuteTime": {
     "end_time": "2018-06-22T08:05:49.831892Z",
     "start_time": "2018-06-22T08:05:49.825295Z"
    }
   },
   "outputs": [
    {
     "name": "stdout",
     "output_type": "stream",
     "text": [
      "True\n"
     ]
    }
   ],
   "source": [
    "print(torch.cuda.is_available())"
   ]
  },
  {
   "cell_type": "code",
   "execution_count": null,
   "metadata": {
    "ExecuteTime": {
     "end_time": "2018-06-22T08:10:46.047866Z",
     "start_time": "2018-06-22T08:10:46.037457Z"
    }
   },
   "outputs": [],
   "source": [
    "import torch.nn as nn\n",
    "from torch.nn import Conv1d, LSTM, ReLU\n",
    "from torch.nn import utils as nn_utils\n",
    "from torch.autograd import Variable\n",
    "import torch.nn.functional as F\n",
    "\n",
    "class QMN(torch.nn.Module):\n",
    "    def __init__(self, VOCABSIZE, EMBEDDIM, MAXLEN):\n",
    "        # SIZE\n",
    "        self.vocab_size = VOCABSIZE\n",
    "        self.embedding_dim = EMBEDDIM\n",
    "        self.max_len = MAXLEN\n",
    "        # LAYERS\n",
    "        self.word_embeds = nn.Embedding(self.vocab_size, self.embedding_dim)\n",
    "        \n",
    "        \n",
    "        self.conv_1 = [Conv1d(self.embedding_dim, 64, size, stride=1, padding=int(size/2)) for size in [1, 2, 3, 5]]\n",
    "        self.dense_1 = nn.Linear(self.embedding_dim, 1)\n",
    "        \n",
    "    def forward(self, inputs_q1, inputs_q2, inputs_feat=None, batch_size=64):\n",
    "        q1_w, q1_c = inputs_q1\n",
    "        q2_w, q2_c = inputs_q2\n",
    "#         q1_w, q1_c, q1_vec = inputs_q1\n",
    "#         q1_w, q1_c, q2_vec = inputs_q1\n",
    "#         pair_vec = inputs_feat\n",
    "        q1_embed = self.word_embeds(q1_w).view(-1, self.max_len)\n",
    "        q2_embed = self.word_embeds(q2_w).view(-1, self.max_len)\n",
    "        \n",
    "        q1_conv1_1 = self.conv_1_1(q1_embed)\n",
    "        q1_conv1_2 = self.conv_1_2(q1_embed)\n",
    "        q1_conv1_3 = self.conv_1_3(q1_embed)\n",
    "        q1_conv1_5 = self.conv_1_5(q1_embed)\n",
    "        \n",
    "        q2_conv1_1 = self.conv_1_1(q2_embed)\n",
    "        q2_conv1_2 = self.conv_1_2(q2_embed)\n",
    "        q2_conv1_3 = self.conv_1_3(q2_embed)\n",
    "        q2_conv1_5 = self.conv_1_5(q2_embed)\n",
    "        \n",
    "        \n",
    "        q2_lstm, q2_hidden = self.bilstm(q2_embed, q2_hidden)\n",
    "        q2_lstm = q2_lstm.view(len(q2_w), self.bilstm_outdim)\n",
    "\n",
    "        pair = q1_lstm - q1_lstm\n",
    "        y_pred = self.output_linear(lstm_out)\n",
    "        return y_pred\n",
    "    \n",
    "    def train(self, TRAINDATA, EPOCH, BATCHSIZE, LEARNING_RATE, OPTIMIZER):\n",
    "        \n",
    "    def test(self, TESTDATA, BATCHSIZE=64):\n",
    "        \n",
    "    def eval(self, EVALDATA, BATCHSIZE=64):\n",
    "    \n",
    "    def save(path):\n",
    "        nn.save(path)\n",
    "        "
   ]
  },
  {
   "cell_type": "code",
   "execution_count": null,
   "metadata": {
    "ExecuteTime": {
     "end_time": "2018-06-22T08:10:46.047866Z",
     "start_time": "2018-06-22T08:10:46.037457Z"
    }
   },
   "outputs": [],
   "source": [
    "model = QMN()\n",
    "criterion = torch.nn.MSELoss(size_average=False)\n",
    "optimizer = torch.optim.SGD(model.parameters(), lr=1e-4, momentum=0.9)"
   ]
  },
  {
   "cell_type": "code",
   "execution_count": 5,
   "metadata": {
    "ExecuteTime": {
     "end_time": "2018-06-22T08:10:46.047866Z",
     "start_time": "2018-06-22T08:10:46.037457Z"
    }
   },
   "outputs": [
    {
     "name": "stdout",
     "output_type": "stream",
     "text": [
      "None\n"
     ]
    }
   ],
   "source": [
    "for t in range(500):\n",
    "    # Forward pass: Compute predicted y by passing x to the model\n",
    "    y_pred = model(x)\n",
    "    # Compute and print loss\n",
    "    loss = criterion(y_pred, y)\n",
    "    print(t, loss.item())\n",
    "    # Zero gradients, perform a backward pass, and update the weights.\n",
    "    optimizer.zero_grad()\n",
    "    loss.backward()\n",
    "    optimizer.step()"
   ]
  }
 ],
 "metadata": {
  "kernelspec": {
   "display_name": "Python 3",
   "language": "python",
   "name": "python3"
  },
  "language_info": {
   "codemirror_mode": {
    "name": "ipython",
    "version": 3
   },
   "file_extension": ".py",
   "mimetype": "text/x-python",
   "name": "python",
   "nbconvert_exporter": "python",
   "pygments_lexer": "ipython3",
   "version": "3.6.2"
  },
  "latex_envs": {
   "LaTeX_envs_menu_present": true,
   "autocomplete": true,
   "bibliofile": "biblio.bib",
   "cite_by": "apalike",
   "current_citInitial": 1,
   "eqLabelWithNumbers": true,
   "eqNumInitial": 1,
   "hotkeys": {
    "equation": "Ctrl-E",
    "itemize": "Ctrl-I"
   },
   "labels_anchors": false,
   "latex_user_defs": false,
   "report_style_numbering": false,
   "user_envs_cfg": false
  },
  "toc": {
   "nav_menu": {},
   "number_sections": true,
   "sideBar": true,
   "skip_h1_title": false,
   "toc_cell": false,
   "toc_position": {},
   "toc_section_display": "block",
   "toc_window_display": false
  },
  "varInspector": {
   "cols": {
    "lenName": 16,
    "lenType": 16,
    "lenVar": 40
   },
   "kernels_config": {
    "python": {
     "delete_cmd_postfix": "",
     "delete_cmd_prefix": "del ",
     "library": "var_list.py",
     "varRefreshCmd": "print(var_dic_list())"
    },
    "r": {
     "delete_cmd_postfix": ") ",
     "delete_cmd_prefix": "rm(",
     "library": "var_list.r",
     "varRefreshCmd": "cat(var_dic_list()) "
    }
   },
   "types_to_exclude": [
    "module",
    "function",
    "builtin_function_or_method",
    "instance",
    "_Feature"
   ],
   "window_display": false
  }
 },
 "nbformat": 4,
 "nbformat_minor": 2
}
