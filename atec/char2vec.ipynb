{
 "cells": [
  {
   "cell_type": "code",
   "execution_count": 1,
   "metadata": {
    "ExecuteTime": {
     "end_time": "2018-06-21T01:23:34.983119Z",
     "start_time": "2018-06-21T01:23:33.601417Z"
    }
   },
   "outputs": [
    {
     "name": "stdout",
     "output_type": "stream",
     "text": [
      "success! \n"
     ]
    }
   ],
   "source": [
    "from gensim.models import Word2Vec\n",
    "path = '/files/ydm/CCKS_bjb/wiki/wiki.zh.text.model'\n",
    "\n",
    "w2v = Word2Vec.load(path).wv"
   ]
  },
  {
   "cell_type": "code",
   "execution_count": 7,
   "metadata": {
    "ExecuteTime": {
     "end_time": "2018-06-21T01:31:46.875097Z",
     "start_time": "2018-06-21T01:31:46.861567Z"
    }
   },
   "outputs": [
    {
     "name": "stdout",
     "output_type": "stream",
     "text": [
      "13315\n"
     ]
    }
   ],
   "source": [
    "vocab = [v for v in w2v.vocab if len(v) < 2]\n",
    "print(len(vocab))"
   ]
  },
  {
   "cell_type": "code",
   "execution_count": 8,
   "metadata": {
    "ExecuteTime": {
     "end_time": "2018-06-21T01:32:20.280101Z",
     "start_time": "2018-06-21T01:32:20.253769Z"
    }
   },
   "outputs": [],
   "source": [
    "cdict = []\n",
    "emat = []\n",
    "for c in vocab:\n",
    "    cdict.append(c)\n",
    "    emat.append(w2v[c])\n",
    "    \n",
    "cdict.append('OOV')\n",
    "emat.append([0.0]*200)\n",
    "cdict = dict((c, idx) for idx, c in enumerate(vocab))"
   ]
  },
  {
   "cell_type": "code",
   "execution_count": 9,
   "metadata": {
    "ExecuteTime": {
     "end_time": "2018-06-21T01:34:24.708489Z",
     "start_time": "2018-06-21T01:34:24.680454Z"
    }
   },
   "outputs": [],
   "source": [
    "import numpy as np\n",
    "emat = np.array(emat)"
   ]
  },
  {
   "cell_type": "code",
   "execution_count": 10,
   "metadata": {
    "ExecuteTime": {
     "end_time": "2018-06-21T01:34:27.671034Z",
     "start_time": "2018-06-21T01:34:27.467587Z"
    }
   },
   "outputs": [],
   "source": [
    "import pickle\n",
    "f = open('char2vec.model', 'wb')\n",
    "pickle.dump(cdict, f, True)\n",
    "pickle.dump(emat, f, True)\n",
    "f.close()"
   ]
  },
  {
   "cell_type": "code",
   "execution_count": 12,
   "metadata": {
    "ExecuteTime": {
     "end_time": "2018-06-21T01:34:40.091333Z",
     "start_time": "2018-06-21T01:34:39.928031Z"
    }
   },
   "outputs": [],
   "source": [
    "import pickle\n",
    "c2vpath = 'char2vec.model'\n",
    "c2vfile = open(c2vpath, 'rb')\n",
    "cdict = pickle.load(c2vfile)\n",
    "emat = pickle.load(c2vfile)\n",
    "c2vfile.close()"
   ]
  },
  {
   "cell_type": "code",
   "execution_count": 13,
   "metadata": {
    "ExecuteTime": {
     "end_time": "2018-06-21T01:34:42.149836Z",
     "start_time": "2018-06-21T01:34:42.145142Z"
    }
   },
   "outputs": [
    {
     "name": "stdout",
     "output_type": "stream",
     "text": [
      "13315\n",
      "(13316, 200)\n"
     ]
    }
   ],
   "source": [
    "print(len(cdict))\n",
    "print(emat.shape)"
   ]
  }
 ],
 "metadata": {
  "kernelspec": {
   "display_name": "Python 3",
   "language": "python",
   "name": "python3"
  },
  "language_info": {
   "codemirror_mode": {
    "name": "ipython",
    "version": 3
   },
   "file_extension": ".py",
   "mimetype": "text/x-python",
   "name": "python",
   "nbconvert_exporter": "python",
   "pygments_lexer": "ipython3",
   "version": "3.6.2"
  },
  "latex_envs": {
   "LaTeX_envs_menu_present": true,
   "autocomplete": true,
   "bibliofile": "biblio.bib",
   "cite_by": "apalike",
   "current_citInitial": 1,
   "eqLabelWithNumbers": true,
   "eqNumInitial": 1,
   "hotkeys": {
    "equation": "Ctrl-E",
    "itemize": "Ctrl-I"
   },
   "labels_anchors": false,
   "latex_user_defs": false,
   "report_style_numbering": false,
   "user_envs_cfg": false
  },
  "toc": {
   "nav_menu": {},
   "number_sections": true,
   "sideBar": true,
   "skip_h1_title": false,
   "toc_cell": false,
   "toc_position": {},
   "toc_section_display": "block",
   "toc_window_display": false
  },
  "varInspector": {
   "cols": {
    "lenName": 16,
    "lenType": 16,
    "lenVar": 40
   },
   "kernels_config": {
    "python": {
     "delete_cmd_postfix": "",
     "delete_cmd_prefix": "del ",
     "library": "var_list.py",
     "varRefreshCmd": "print(var_dic_list())"
    },
    "r": {
     "delete_cmd_postfix": ") ",
     "delete_cmd_prefix": "rm(",
     "library": "var_list.r",
     "varRefreshCmd": "cat(var_dic_list()) "
    }
   },
   "types_to_exclude": [
    "module",
    "function",
    "builtin_function_or_method",
    "instance",
    "_Feature"
   ],
   "window_display": false
  }
 },
 "nbformat": 4,
 "nbformat_minor": 2
}
