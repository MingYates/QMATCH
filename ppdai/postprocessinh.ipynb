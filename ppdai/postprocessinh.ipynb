{
 "cells": [
  {
   "cell_type": "code",
   "execution_count": 20,
   "metadata": {
    "ExecuteTime": {
     "end_time": "2018-06-20T11:45:22.207765Z",
     "start_time": "2018-06-20T11:45:22.204086Z"
    }
   },
   "outputs": [],
   "source": [
    "path = '/home/faust/PROJECTS/COMPETITION/submission/submission-cnn-0.22070.csv'\n",
    "modpath = '/home/faust/PROJECTS/COMPETITION/submission/submission-cnn-0.22070-mod-0.01.csv'"
   ]
  },
  {
   "cell_type": "code",
   "execution_count": 21,
   "metadata": {
    "ExecuteTime": {
     "end_time": "2018-06-20T11:45:29.127266Z",
     "start_time": "2018-06-20T11:45:28.812111Z"
    }
   },
   "outputs": [],
   "source": [
    "# alpha = 0.05\n",
    "# beta = 0.95\n",
    "# alpha = 0.02\n",
    "# beta = 0.98\n",
    "alpha = 0.01\n",
    "beta = 0.99\n",
    "with open(path, 'r+', encoding='utf8') as orif:\n",
    "    with open(modpath, 'w+', encoding='utf8') as modf:\n",
    "        for line in orif:\n",
    "            line = line.strip()\n",
    "            if not line == 'y_pre' and len(line) > 0:\n",
    "                line = float(line)\n",
    "                if line < alpha:\n",
    "                    line = 0.0\n",
    "                if line > beta:\n",
    "                    line = 1.0\n",
    "            modf.write(str(line) + '\\n')\n"
   ]
  }
 ],
 "metadata": {
  "kernelspec": {
   "display_name": "Python 3",
   "language": "python",
   "name": "python3"
  },
  "language_info": {
   "codemirror_mode": {
    "name": "ipython",
    "version": 3
   },
   "file_extension": ".py",
   "mimetype": "text/x-python",
   "name": "python",
   "nbconvert_exporter": "python",
   "pygments_lexer": "ipython3",
   "version": "3.6.2"
  },
  "latex_envs": {
   "LaTeX_envs_menu_present": true,
   "autocomplete": true,
   "bibliofile": "biblio.bib",
   "cite_by": "apalike",
   "current_citInitial": 1,
   "eqLabelWithNumbers": true,
   "eqNumInitial": 1,
   "hotkeys": {
    "equation": "Ctrl-E",
    "itemize": "Ctrl-I"
   },
   "labels_anchors": false,
   "latex_user_defs": false,
   "report_style_numbering": false,
   "user_envs_cfg": false
  },
  "toc": {
   "nav_menu": {},
   "number_sections": true,
   "sideBar": true,
   "skip_h1_title": false,
   "toc_cell": false,
   "toc_position": {},
   "toc_section_display": "block",
   "toc_window_display": false
  },
  "varInspector": {
   "cols": {
    "lenName": 16,
    "lenType": 16,
    "lenVar": 40
   },
   "kernels_config": {
    "python": {
     "delete_cmd_postfix": "",
     "delete_cmd_prefix": "del ",
     "library": "var_list.py",
     "varRefreshCmd": "print(var_dic_list())"
    },
    "r": {
     "delete_cmd_postfix": ") ",
     "delete_cmd_prefix": "rm(",
     "library": "var_list.r",
     "varRefreshCmd": "cat(var_dic_list()) "
    }
   },
   "types_to_exclude": [
    "module",
    "function",
    "builtin_function_or_method",
    "instance",
    "_Feature"
   ],
   "window_display": false
  }
 },
 "nbformat": 4,
 "nbformat_minor": 2
}
