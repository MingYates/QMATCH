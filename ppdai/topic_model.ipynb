{
 "cells": [
  {
   "cell_type": "code",
   "execution_count": 1,
   "metadata": {
    "ExecuteTime": {
     "end_time": "2018-06-15T06:51:30.614643Z",
     "start_time": "2018-06-15T06:40:36.707007Z"
    }
   },
   "outputs": [
    {
     "name": "stdout",
     "output_type": "stream",
     "text": [
      "success! \n",
      "20890\n",
      "11202\n",
      "Dictionary(20890 unique tokens: ['W05284', 'W05733', 'W07863', 'W09158', 'W14968']...)\n",
      "doc size = 728428\n",
      "learning...\n"
     ]
    }
   ],
   "source": [
    "from gensim import corpora, models\n",
    "from ppdai_utils import *\n",
    "\n",
    "questions = pickle.load(open('/files/faust/COMPETITION/ppdai/questions.pkl', 'rb'))\n",
    "questions_ids = [qid for qid, _ in questions.items()]\n",
    "questions_words = [text['cwords'] for _, text in questions.items()]\n",
    "\n",
    "word_dict = corpora.Dictionary(questions_words)\n",
    "print(word_dict)\n",
    "doc_list = [word_dict.doc2bow(q) for q in questions_words]\n",
    "print('doc size = %d' % len(doc_list))\n",
    "doc_tfidf = models.TfidfModel(doc_list)[doc_list]\n",
    "\n",
    "print('learning...')\n",
    "model_lda = models.ldamodel.LdaModel(corpus=doc_tfidf, id2word=word_dict, num_topics=50, alpha='auto')\n",
    "print('done.')"
   ]
  },
  {
   "cell_type": "code",
   "execution_count": 12,
   "metadata": {
    "ExecuteTime": {
     "end_time": "2018-06-15T08:23:42.498259Z",
     "start_time": "2018-06-15T08:23:42.493102Z"
    }
   },
   "outputs": [
    {
     "name": "stdout",
     "output_type": "stream",
     "text": [
      "728428\n"
     ]
    }
   ],
   "source": [
    "corpus_lda = model_lda[doc_tfidf]\n",
    "print(len(corpus_lda))"
   ]
  },
  {
   "cell_type": "code",
   "execution_count": null,
   "metadata": {
    "ExecuteTime": {
     "start_time": "2018-06-14T08:25:53.089Z"
    }
   },
   "outputs": [],
   "source": [
    "# import numpy as np\n",
    "# q_vec = model_lda.get_document_topics(doc_tfidf[0])\n",
    "# print(q_vec)\n",
    "# print(np.array([i[-1] for i in q_vec]))\n",
    "\n",
    "numtopics = 30\n",
    "def tm2vec(qtm):\n",
    "    vec = [.0] * numtopics\n",
    "    for t, p in qtm:\n",
    "        vec[t] = p\n",
    "        \n",
    "corpus_lda = [tm2vec(qv) for qv in corpus_lda]\n",
    "# corpus_lda = np.array(corpus_lda)"
   ]
  },
  {
   "cell_type": "code",
   "execution_count": 7,
   "metadata": {
    "ExecuteTime": {
     "end_time": "2018-06-15T07:09:46.069616Z",
     "start_time": "2018-06-15T07:09:43.052281Z"
    }
   },
   "outputs": [],
   "source": [
    "question_id2v = dict([(qid, vec) for qid,vec in zip(questions_ids, corpus_lda)])\n",
    "import pickle\n",
    "pickle.dump(question_id2v, open('/files/faust/COMPETITION/ppdai/questions_lda.pkl', 'wb'))"
   ]
  },
  {
   "cell_type": "code",
   "execution_count": 9,
   "metadata": {
    "ExecuteTime": {
     "end_time": "2018-06-15T07:26:23.353082Z",
     "start_time": "2018-06-15T07:26:22.213986Z"
    }
   },
   "outputs": [],
   "source": [
    "question_id2v = pickle.load(open('/files/faust/COMPETITION/ppdai/questions_lda.pkl', 'rb'))"
   ]
  },
  {
   "cell_type": "code",
   "execution_count": 10,
   "metadata": {
    "ExecuteTime": {
     "end_time": "2018-06-15T07:38:41.422831Z",
     "start_time": "2018-06-15T07:38:41.420223Z"
    }
   },
   "outputs": [
    {
     "name": "stdout",
     "output_type": "stream",
     "text": [
      "[0.01031556 0.01211773 0.01014305 0.01168753 0.01337176 0.01515382\n",
      " 0.01164058 0.01083479 0.01075436 0.5375551  0.01140166 0.01418644\n",
      " 0.01143751 0.01197973 0.01135267 0.01313664 0.01137661 0.01210211\n",
      " 0.01225191]\n"
     ]
    }
   ],
   "source": [
    "print(question_id2v[questions_ids[0]])"
   ]
  }
 ],
 "metadata": {
  "kernelspec": {
   "display_name": "Python 3",
   "language": "python",
   "name": "python3"
  },
  "language_info": {
   "codemirror_mode": {
    "name": "ipython",
    "version": 3
   },
   "file_extension": ".py",
   "mimetype": "text/x-python",
   "name": "python",
   "nbconvert_exporter": "python",
   "pygments_lexer": "ipython3",
   "version": "3.6.2"
  },
  "latex_envs": {
   "LaTeX_envs_menu_present": true,
   "autocomplete": true,
   "bibliofile": "biblio.bib",
   "cite_by": "apalike",
   "current_citInitial": 1,
   "eqLabelWithNumbers": true,
   "eqNumInitial": 1,
   "hotkeys": {
    "equation": "Ctrl-E",
    "itemize": "Ctrl-I"
   },
   "labels_anchors": false,
   "latex_user_defs": false,
   "report_style_numbering": false,
   "user_envs_cfg": false
  },
  "toc": {
   "nav_menu": {},
   "number_sections": true,
   "sideBar": true,
   "skip_h1_title": false,
   "toc_cell": false,
   "toc_position": {},
   "toc_section_display": "block",
   "toc_window_display": false
  },
  "varInspector": {
   "cols": {
    "lenName": 16,
    "lenType": 16,
    "lenVar": 40
   },
   "kernels_config": {
    "python": {
     "delete_cmd_postfix": "",
     "delete_cmd_prefix": "del ",
     "library": "var_list.py",
     "varRefreshCmd": "print(var_dic_list())"
    },
    "r": {
     "delete_cmd_postfix": ") ",
     "delete_cmd_prefix": "rm(",
     "library": "var_list.r",
     "varRefreshCmd": "cat(var_dic_list()) "
    }
   },
   "types_to_exclude": [
    "module",
    "function",
    "builtin_function_or_method",
    "instance",
    "_Feature"
   ],
   "window_display": false
  }
 },
 "nbformat": 4,
 "nbformat_minor": 2
}
